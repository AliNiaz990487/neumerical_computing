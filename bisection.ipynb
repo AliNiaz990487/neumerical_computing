{
 "cells": [
  {
   "cell_type": "code",
   "execution_count": 6,
   "metadata": {},
   "outputs": [],
   "source": [
    "import math\n",
    "import sympy\n",
    "import numpy as np\n",
    "from sympy import symbols, evaluate\n",
    "from matplotlib import pyplot as plt \n",
    "from IPython.display import display, Math\n",
    "%matplotlib inline"
   ]
  },
  {
   "cell_type": "code",
   "execution_count": 70,
   "metadata": {},
   "outputs": [],
   "source": [
    "def f(x, round_dgints=4):\n",
    "    return (x**2 - np.exp(x)).round(round_dgints)\n",
    "\n",
    "def f_display(x):\n",
    "    return Math(f\"f({x}) = {x}^{{2}} - e^{{{x}}} = {{{f(x)}}}\")"
   ]
  },
  {
   "cell_type": "code",
   "execution_count": 64,
   "metadata": {},
   "outputs": [],
   "source": [
    "def get_alpha(x: list, y: list)->list:\n",
    "    def get_index():\n",
    "        for i, _ in enumerate(y, 1):\n",
    "            if y[i] * y[i-1] < 0:\n",
    "                return i\n",
    "\n",
    "    return [x[get_index()], x[get_index()-1]] "
   ]
  },
  {
   "cell_type": "code",
   "execution_count": 72,
   "metadata": {},
   "outputs": [
    {
     "data": {
      "text/latex": [
       "$\\displaystyle f(x)=x^{2}-e^{x}$"
      ],
      "text/plain": [
       "<IPython.core.display.Math object>"
      ]
     },
     "metadata": {},
     "output_type": "display_data"
    },
    {
     "name": "stdout",
     "output_type": "stream",
     "text": [
      "__________________________________________________________________________________\n"
     ]
    },
    {
     "data": {
      "text/latex": [
       "$\\displaystyle f(0) = 0^{2} - e^{0} = {-1.0}$"
      ],
      "text/plain": [
       "<IPython.core.display.Math object>"
      ]
     },
     "metadata": {},
     "output_type": "display_data"
    },
    {
     "data": {
      "text/latex": [
       "$\\displaystyle f(-1) = -1^{2} - e^{-1} = {0.6321}$"
      ],
      "text/plain": [
       "<IPython.core.display.Math object>"
      ]
     },
     "metadata": {},
     "output_type": "display_data"
    },
    {
     "data": {
      "text/latex": [
       "$\\displaystyle As: f( {0} ) f( {-1} ) < 0$"
      ],
      "text/plain": [
       "<IPython.core.display.Math object>"
      ]
     },
     "metadata": {},
     "output_type": "display_data"
    },
    {
     "data": {
      "text/latex": [
       "$\\displaystyle \\alpha \\in ( {0}, {-1} )$"
      ],
      "text/plain": [
       "<IPython.core.display.Math object>"
      ]
     },
     "metadata": {},
     "output_type": "display_data"
    },
    {
     "data": {
      "text/latex": [
       "$\\displaystyle x_{ 0 } = 0$"
      ],
      "text/plain": [
       "<IPython.core.display.Math object>"
      ]
     },
     "metadata": {},
     "output_type": "display_data"
    },
    {
     "data": {
      "text/latex": [
       "$\\displaystyle x_{ 1 } = -1$"
      ],
      "text/plain": [
       "<IPython.core.display.Math object>"
      ]
     },
     "metadata": {},
     "output_type": "display_data"
    },
    {
     "name": "stdout",
     "output_type": "stream",
     "text": [
      "___________________________________________________________________________________\n"
     ]
    },
    {
     "data": {
      "text/latex": [
       "$\\displaystyle x_{3} = \\frac{ {x_0} + {x_1} }{ 2 } = \\frac{ 0 + -1 }{ 2 } = -0.5$"
      ],
      "text/plain": [
       "<IPython.core.display.Math object>"
      ]
     },
     "metadata": {},
     "output_type": "display_data"
    },
    {
     "data": {
      "text/latex": [
       "$\\displaystyle As: f( {0} ) f( {-1} ) < 0$"
      ],
      "text/plain": [
       "<IPython.core.display.Math object>"
      ]
     },
     "metadata": {},
     "output_type": "display_data"
    },
    {
     "data": {
      "text/latex": [
       "$\\displaystyle f(-0.5) = -0.5^{2} - e^{-0.5} = {-0.3565}$"
      ],
      "text/plain": [
       "<IPython.core.display.Math object>"
      ]
     },
     "metadata": {},
     "output_type": "display_data"
    },
    {
     "name": "stdout",
     "output_type": "stream",
     "text": [
      "___________________________________________________________________________________\n"
     ]
    },
    {
     "data": {
      "text/latex": [
       "$\\displaystyle x_{4} = \\frac{ {x_1} + {x_2} }{ 2 } = \\frac{ -0.5 + -1 }{ 2 } = -0.75$"
      ],
      "text/plain": [
       "<IPython.core.display.Math object>"
      ]
     },
     "metadata": {},
     "output_type": "display_data"
    },
    {
     "data": {
      "text/latex": [
       "$\\displaystyle As: f( {-0.5} ) f( {-1} ) < 0$"
      ],
      "text/plain": [
       "<IPython.core.display.Math object>"
      ]
     },
     "metadata": {},
     "output_type": "display_data"
    },
    {
     "data": {
      "text/latex": [
       "$\\displaystyle f(-0.75) = -0.75^{2} - e^{-0.75} = {0.0901}$"
      ],
      "text/plain": [
       "<IPython.core.display.Math object>"
      ]
     },
     "metadata": {},
     "output_type": "display_data"
    },
    {
     "name": "stdout",
     "output_type": "stream",
     "text": [
      "___________________________________________________________________________________\n"
     ]
    },
    {
     "data": {
      "text/latex": [
       "$\\displaystyle x_{5} = \\frac{ {x_2} + {x_3} }{ 2 } = \\frac{ -0.75 + -1 }{ 2 } = -0.875$"
      ],
      "text/plain": [
       "<IPython.core.display.Math object>"
      ]
     },
     "metadata": {},
     "output_type": "display_data"
    },
    {
     "data": {
      "text/latex": [
       "$\\displaystyle As: f( {-0.75} ) f( {-1} ) > 0$"
      ],
      "text/plain": [
       "<IPython.core.display.Math object>"
      ]
     },
     "metadata": {},
     "output_type": "display_data"
    },
    {
     "data": {
      "text/latex": [
       "$\\displaystyle f(-0.875) = -0.875^{2} - e^{-0.875} = {0.3488}$"
      ],
      "text/plain": [
       "<IPython.core.display.Math object>"
      ]
     },
     "metadata": {},
     "output_type": "display_data"
    }
   ],
   "source": [
    "x_values = np.array([i for i in range(-10, 10)])\n",
    "y_values = [f(x) for x in x_values]\n",
    "\n",
    "alpha = get_alpha(x_values, y_values)\n",
    "\n",
    "\n",
    "display(Math(\"f(x)=x^{2}-e^{x}\"))\n",
    "print(\"__________________________________________________________________________________\")\n",
    "\n",
    "display(f_display(alpha[0]))\n",
    "display(f_display(alpha[1]))\n",
    "if f(alpha[0])*f(alpha[1]) < 0:\n",
    "    display(Math(f\"As: f( {{{ alpha[0] }}} ) f( {{{ alpha[1] }}} ) < 0\"))\n",
    "# print(\"__________________________________________________________________________________\")\n",
    "\n",
    "display(Math(f\"\\\\alpha \\\\in ( {{{ alpha[0] }}}, {{{ alpha[1] }}} )\"))\n",
    "display(Math(f\"x_{{ {0} }} = {alpha[0]}\"))\n",
    "display(Math(f\"x_{{ {1} }} = {alpha[1]}\"))\n",
    "\n",
    "for i in range(1, 4):\n",
    "    avg = sum(alpha)/2\n",
    "    print(\"___________________________________________________________________________________\")\n",
    "    display(Math(f\"x_{{{i+2}}} = \\\\frac{{ {{x_{i-1}}} + {{x_{i}}} }}{{ 2 }} = \\\\frac{{ { alpha[0] } + { alpha[1] } }}{{ 2 }} = {avg}\"))\n",
    "\n",
    "    if f(alpha[0])*f(alpha[1]) < 0: \n",
    "        display(Math(f\"As: f( {{{ alpha[0] }}} ) f( {{{ alpha[1] }}} ) < 0\"))\n",
    "    else:\n",
    "        display(Math(f\"As: f( {{{ alpha[0] }}} ) f( {{{ alpha[1] }}} ) > 0\"))\n",
    "    \n",
    "    display(f_display(avg))\n",
    "\n",
    "    if avg < 0: \n",
    "        alpha[0] = avg\n",
    "    else: \n",
    "        alpha[1] = avg\n",
    "    \n",
    "\n"
   ]
  },
  {
   "cell_type": "code",
   "execution_count": 10,
   "metadata": {},
   "outputs": [
    {
     "data": {
      "text/plain": [
       "Text(0.5, 1.0, '$f(x)=x^{2}-e^{x}$')"
      ]
     },
     "execution_count": 10,
     "metadata": {},
     "output_type": "execute_result"
    },
    {
     "data": {
      "image/png": "[encoded data removed]",
      "text/plain": [
       "<Figure size 640x480 with 1 Axes>"
      ]
     },
     "metadata": {},
     "output_type": "display_data"
    }
   ],
   "source": [
    "def f(x):\n",
    "    return x**2 - math.exp(x)\n",
    "\n",
    "x = symbols(\"x\")\n",
    "func = symbols(\"f(x)=x^{2}-e^{x}\")\n",
    "\n",
    "plt.axvline(color=\"black\", linewidth=0.5)\n",
    "plt.axhline(color=\"black\", linewidth=0.5)\n",
    "\n",
    "plt.plot(*zip(*[(i, f(i)) for i in range(-5, 6)]))\n",
    "plt.title(f\"${func}$\")"
   ]
  },
  {
   "cell_type": "code",
   "execution_count": 11,
   "metadata": {},
   "outputs": [
    {
     "ename": "NameError",
     "evalue": "name 'get_interval' is not defined",
     "output_type": "error",
     "traceback": [
      "\u001b[0;31m---------------------------------------------------------------------------\u001b[0m",
      "\u001b[0;31mNameError\u001b[0m                                 Traceback (most recent call last)",
      "Cell \u001b[0;32mIn[11], line 7\u001b[0m\n\u001b[1;32m      5\u001b[0m plt\u001b[38;5;241m.\u001b[39maxvline()\n\u001b[1;32m      6\u001b[0m plt\u001b[38;5;241m.\u001b[39mplot(x_values, y_values)\n\u001b[0;32m----> 7\u001b[0m \u001b[38;5;28mprint\u001b[39m(\u001b[43mget_interval\u001b[49m(y_values))\n\u001b[1;32m      8\u001b[0m y_values\n",
      "\u001b[0;31mNameError\u001b[0m: name 'get_interval' is not defined"
     ]
    },
    {
     "data": {
      "image/png": "[encoded data removed]",
      "text/plain": [
       "<Figure size 640x480 with 1 Axes>"
      ]
     },
     "metadata": {},
     "output_type": "display_data"
    }
   ],
   "source": [
    "x_values = np.arange(-3, 3, 0.8)\n",
    "y_values = [x**2 - np.exp(x) for x in x_values]\n",
    "\n",
    "plt.axhline()\n",
    "plt.axvline()\n",
    "plt.plot(x_values, y_values)\n",
    "print(get_interval(y_values))\n",
    "y_values"
   ]
  },
  {
   "cell_type": "code",
   "execution_count": null,
   "metadata": {},
   "outputs": [
    {
     "data": {
      "text/plain": [
       "(-3, 4)"
      ]
     },
     "execution_count": 67,
     "metadata": {},
     "output_type": "execute_result"
    }
   ],
   "source": [
    "x_values = np.arange(-10, 10)\n",
    "y_values = [x**2-12 for x in x_values]\n",
    "\n",
    " \n",
    "# y_values      \n"
   ]
  }
 ],
 "metadata": {
  "kernelspec": {
   "display_name": "menv",
   "language": "python",
   "name": "python3"
  },
  "language_info": {
   "codemirror_mode": {
    "name": "ipython",
    "version": 3
   },
   "file_extension": ".py",
   "mimetype": "text/x-python",
   "name": "python",
   "nbconvert_exporter": "python",
   "pygments_lexer": "ipython3",
   "version": "3.11.7"
  }
 },
 "nbformat": 4,
 "nbformat_minor": 2
}
